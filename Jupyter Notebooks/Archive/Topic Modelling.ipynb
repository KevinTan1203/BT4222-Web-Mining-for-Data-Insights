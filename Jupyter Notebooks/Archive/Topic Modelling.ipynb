{
 "cells": [
  {
   "cell_type": "markdown",
   "id": "5eab8a8d",
   "metadata": {},
   "source": [
    "# Topic Modelling for Corporate Sustainability Report\n",
    "\n",
    "This notebook focuses on parsing the contents of the pdf and identifying the topics that are focused/talked about using spacy's nlp tool"
   ]
  },
  {
   "cell_type": "code",
   "execution_count": 1,
   "id": "dd0f6765",
   "metadata": {},
   "outputs": [],
   "source": [
    "import pandas as pd\n",
    "import spacy\n",
    "import re\n",
    "import PyPDF2\n",
    "from tqdm import tqdm\n",
    "from bs4 import BeautifulSoup"
   ]
  },
  {
   "cell_type": "code",
   "execution_count": 2,
   "id": "97344f3e",
   "metadata": {},
   "outputs": [],
   "source": [
    "nlp = spacy.load('en')"
   ]
  },
  {
   "cell_type": "code",
   "execution_count": 17,
   "id": "2daeefe6",
   "metadata": {},
   "outputs": [],
   "source": [
    "# Function takes in a report and breaks it up into individual sentences\n",
    "def convert_pdf_into_sentences(text):\n",
    "    # Remove unnecessary spaces and line breaks\n",
    "    text = re.sub(r'\\x0c\\x0c|\\x0c', \"\", str(text))\n",
    "    text = re.sub('\\n ', '', str(text))\n",
    "    text = re.sub('\\n', ' ', str(text))\n",
    "    text = ' '.join(text.split())\n",
    "    text = \" \" + text + \"  \"\n",
    "    text = text.replace(\"\\n\", \" \")\n",
    "    if \"”\" in text: text = text.replace(\".”\", \"”.\")\n",
    "    if \"\\\"\" in text: text = text.replace(\".\\\"\", \"\\\".\")\n",
    "    if \"!\" in text: text = text.replace(\"!\\\"\", \"\\\"!\")\n",
    "    if \"?\" in text: text = text.replace(\"?\\\"\", \"\\\"?\")\n",
    "    text = text.replace(\".\", \".<stop>\")\n",
    "    text = text.replace(\"?\", \"?<stop>\")\n",
    "    text = text.replace(\"!\", \"!<stop>\")\n",
    "    text = text.replace(\"<prd>\", \".\")\n",
    "    sentences = text.split(\"<stop>\")\n",
    "    sentences = sentences[:-1]\n",
    "\n",
    "    # Filter for sentences with more than 100 characters\n",
    "    sentences = [s.strip() for s in sentences if len(s) > 100]\n",
    "    return sentences\n",
    "\n",
    "\n",
    "def stopWordRemoval(sentences):\n",
    "    sentencesCleaned = []\n",
    "    for sentence in sentences:\n",
    "        text_tokens = nlp(sentence)\n",
    "        tokens_without_sw = [word.text for word in text_tokens if not word.text in nlp.Defaults.stop_words]\n",
    "        sentencesCleaned.append(' '.join(tokens_without_sw))\n",
    "    return sentencesCleaned"
   ]
  },
  {
   "cell_type": "code",
   "execution_count": 4,
   "id": "86e80109",
   "metadata": {},
   "outputs": [
    {
     "name": "stderr",
     "output_type": "stream",
     "text": [
      "PdfReadWarning: Xref table not zero-indexed. ID numbers for objects will be corrected. [pdf.py:1736]\n"
     ]
    }
   ],
   "source": [
    "myFile = open('Apple_Environmental_Progress_Report_2021.pdf', mode = 'rb')\n",
    "pdf_reader = PyPDF2.PdfFileReader(myFile)\n",
    "\n",
    "\n",
    "# Read the entire file into a single string of texts\n",
    "text = \"\"\n",
    "for p in range(pdf_reader.numPages):\n",
    "    page = pdf_reader.getPage(p)\n",
    "    text += page.extractText()\n",
    "myFile.close()"
   ]
  },
  {
   "cell_type": "code",
   "execution_count": 18,
   "id": "9a6aca29",
   "metadata": {},
   "outputs": [],
   "source": [
    "# Parse the large string into proper sentences\n",
    "sentences = convert_pdf_into_sentences(text)\n",
    "\n",
    "# Removing stop words\n",
    "sentences_wo_sw = stopWordRemoval(sentences)"
   ]
  },
  {
   "cell_type": "code",
   "execution_count": 23,
   "id": "65c315f0",
   "metadata": {},
   "outputs": [
    {
     "data": {
      "text/html": [
       "<div>\n",
       "<style scoped>\n",
       "    .dataframe tbody tr th:only-of-type {\n",
       "        vertical-align: middle;\n",
       "    }\n",
       "\n",
       "    .dataframe tbody tr th {\n",
       "        vertical-align: top;\n",
       "    }\n",
       "\n",
       "    .dataframe thead th {\n",
       "        text-align: right;\n",
       "    }\n",
       "</style>\n",
       "<table border=\"1\" class=\"dataframe\">\n",
       "  <thead>\n",
       "    <tr style=\"text-align: right;\">\n",
       "      <th></th>\n",
       "      <th>Sentence</th>\n",
       "    </tr>\n",
       "  </thead>\n",
       "  <tbody>\n",
       "    <tr>\n",
       "      <th>0</th>\n",
       "      <td>Covering fiscal year 2020 Environmental Progre...</td>\n",
       "    </tr>\n",
       "    <tr>\n",
       "      <th>1</th>\n",
       "      <td>Environmental Progress Report 2Introduction Cl...</td>\n",
       "    </tr>\n",
       "    <tr>\n",
       "      <th>2</th>\n",
       "      <td>In year like , Apple continued work global net...</td>\n",
       "    </tr>\n",
       "    <tr>\n",
       "      <th>3</th>\n",
       "      <td>As company , moved ahead greater urgency creat...</td>\n",
       "    </tr>\n",
       "    <tr>\n",
       "      <th>4</th>\n",
       "      <td>Apple carbon neutral worldwide operations , co...</td>\n",
       "    </tr>\n",
       "  </tbody>\n",
       "</table>\n",
       "</div>"
      ],
      "text/plain": [
       "                                            Sentence\n",
       "0  Covering fiscal year 2020 Environmental Progre...\n",
       "1  Environmental Progress Report 2Introduction Cl...\n",
       "2  In year like , Apple continued work global net...\n",
       "3  As company , moved ahead greater urgency creat...\n",
       "4  Apple carbon neutral worldwide operations , co..."
      ]
     },
     "execution_count": 23,
     "metadata": {},
     "output_type": "execute_result"
    }
   ],
   "source": [
    "# Storing the sentences in a dataframe\n",
    "df = pd.DataFrame(sentences_wo_sw, columns=['Sentence'])\n",
    "df.head()"
   ]
  },
  {
   "cell_type": "markdown",
   "id": "e5619b9c",
   "metadata": {},
   "source": [
    "# Topic Modelling with Latent Dirichlet Allocation"
   ]
  },
  {
   "cell_type": "code",
   "execution_count": 26,
   "id": "a5a49594",
   "metadata": {},
   "outputs": [],
   "source": [
    "from sklearn.feature_extraction.text import CountVectorizer\n",
    "from sklearn.decomposition import LatentDirichletAllocation"
   ]
  },
  {
   "cell_type": "code",
   "execution_count": 25,
   "id": "7764ec43",
   "metadata": {},
   "outputs": [
    {
     "data": {
      "text/plain": [
       "<1223x2115 sparse matrix of type '<class 'numpy.longlong'>'\n",
       "\twith 17057 stored elements in Compressed Sparse Row format>"
      ]
     },
     "execution_count": 25,
     "metadata": {},
     "output_type": "execute_result"
    }
   ],
   "source": [
    "cv = CountVectorizer(max_df=0.95, min_df=2, stop_words='english')\n",
    "dtm = cv.fit_transform(df['Sentence'])\n",
    "dtm"
   ]
  },
  {
   "cell_type": "code",
   "execution_count": 27,
   "id": "fffa69af",
   "metadata": {},
   "outputs": [],
   "source": [
    "# random_state takes on an arbitrary value. Be sure to initialise it\n",
    "\n",
    "# n_components: Number of topics we want. The more we have, the broader the range of topics \n",
    "# which makes it harder to analyse\n",
    "LDA = LatentDirichletAllocation(n_components=7, random_state=42)"
   ]
  },
  {
   "cell_type": "code",
   "execution_count": null,
   "id": "eef356a5",
   "metadata": {},
   "outputs": [],
   "source": [
    "LatentDirichletAllocation()"
   ]
  },
  {
   "cell_type": "code",
   "execution_count": 28,
   "id": "d125584f",
   "metadata": {},
   "outputs": [
    {
     "data": {
      "text/plain": [
       "LatentDirichletAllocation(batch_size=128, doc_topic_prior=None,\n",
       "             evaluate_every=-1, learning_decay=0.7,\n",
       "             learning_method='batch', learning_offset=10.0,\n",
       "             max_doc_update_iter=100, max_iter=10, mean_change_tol=0.001,\n",
       "             n_components=7, n_jobs=None, n_topics=None, perp_tol=0.1,\n",
       "             random_state=42, topic_word_prior=None,\n",
       "             total_samples=1000000.0, verbose=0)"
      ]
     },
     "execution_count": 28,
     "metadata": {},
     "output_type": "execute_result"
    }
   ],
   "source": [
    "LDA.fit(dtm)"
   ]
  },
  {
   "cell_type": "markdown",
   "id": "39695e91",
   "metadata": {},
   "source": [
    "Showing the top few words per topic (i.e the sentences)"
   ]
  },
  {
   "cell_type": "code",
   "execution_count": 29,
   "id": "46a32438",
   "metadata": {},
   "outputs": [],
   "source": [
    "# Retrieving the top 10 words for each sentence and classify the sentences base on topic numbers \n",
    "# (we can vary accordingly)\n",
    "def retrieveTopWords():\n",
    "    wordTopics = {}\n",
    "    for indx, topic in enumerate(LDA.components_):\n",
    "        topWords = [cv.get_feature_names()[i] for i in topic.argsort()[-10:]]\n",
    "        wordTopics[indx] = topWords\n",
    "    return wordTopics"
   ]
  },
  {
   "cell_type": "code",
   "execution_count": 33,
   "id": "3fadef11",
   "metadata": {},
   "outputs": [],
   "source": [
    "# Attaching all the information to our original dataframe\n",
    "topic_results = LDA.transform(dtm)\n",
    "df['topicNumber'] = topic_results.argmax(axis=1)\n",
    "\n",
    "\n",
    "topWordsByTopic = retrieveTopWords()\n",
    "# Map the results of the words to the sentences\n",
    "df['topWords'] = df['topicNumber'].map(topWordsByTopic)"
   ]
  },
  {
   "cell_type": "code",
   "execution_count": 34,
   "id": "dc210734",
   "metadata": {},
   "outputs": [
    {
     "data": {
      "text/html": [
       "<div>\n",
       "<style scoped>\n",
       "    .dataframe tbody tr th:only-of-type {\n",
       "        vertical-align: middle;\n",
       "    }\n",
       "\n",
       "    .dataframe tbody tr th {\n",
       "        vertical-align: top;\n",
       "    }\n",
       "\n",
       "    .dataframe thead th {\n",
       "        text-align: right;\n",
       "    }\n",
       "</style>\n",
       "<table border=\"1\" class=\"dataframe\">\n",
       "  <thead>\n",
       "    <tr style=\"text-align: right;\">\n",
       "      <th></th>\n",
       "      <th>Sentence</th>\n",
       "      <th>topicNumber</th>\n",
       "      <th>topWords</th>\n",
       "    </tr>\n",
       "  </thead>\n",
       "  <tbody>\n",
       "    <tr>\n",
       "      <th>0</th>\n",
       "      <td>Covering fiscal year 2020 Environmental Progre...</td>\n",
       "      <td>2</td>\n",
       "      <td>[000, change, climate, environmental, appendix...</td>\n",
       "    </tr>\n",
       "    <tr>\n",
       "      <th>1</th>\n",
       "      <td>Environmental Progress Report 2Introduction Cl...</td>\n",
       "      <td>2</td>\n",
       "      <td>[000, change, climate, environmental, appendix...</td>\n",
       "    </tr>\n",
       "    <tr>\n",
       "      <th>2</th>\n",
       "      <td>In year like , Apple continued work global net...</td>\n",
       "      <td>0</td>\n",
       "      <td>[100, footprint, climate, projects, percent, e...</td>\n",
       "    </tr>\n",
       "    <tr>\n",
       "      <th>3</th>\n",
       "      <td>As company , moved ahead greater urgency creat...</td>\n",
       "      <td>6</td>\n",
       "      <td>[chemicals, safety, supply, recycled, supplier...</td>\n",
       "    </tr>\n",
       "    <tr>\n",
       "      <th>4</th>\n",
       "      <td>Apple carbon neutral worldwide operations , co...</td>\n",
       "      <td>0</td>\n",
       "      <td>[100, footprint, climate, projects, percent, e...</td>\n",
       "    </tr>\n",
       "    <tr>\n",
       "      <th>5</th>\n",
       "      <td>Those products use recycled materials , like 4...</td>\n",
       "      <td>2</td>\n",
       "      <td>[000, change, climate, environmental, appendix...</td>\n",
       "    </tr>\n",
       "    <tr>\n",
       "      <th>6</th>\n",
       "      <td>Well year , setting ambitious goals Apple help...</td>\n",
       "      <td>0</td>\n",
       "      <td>[100, footprint, climate, projects, percent, e...</td>\n",
       "    </tr>\n",
       "    <tr>\n",
       "      <th>7</th>\n",
       "      <td>That progress powered new renewable energy˜pro...</td>\n",
       "      <td>0</td>\n",
       "      <td>[100, footprint, climate, projects, percent, e...</td>\n",
       "    </tr>\n",
       "    <tr>\n",
       "      <th>8</th>\n",
       "      <td>While helped bring 4 gigawatts renewable energ...</td>\n",
       "      <td>1</td>\n",
       "      <td>[efficiency, facilities, 2020, fiscal, use, ap...</td>\n",
       "    </tr>\n",
       "    <tr>\n",
       "      <th>9</th>\n",
       "      <td>That included innovative new partnership Conse...</td>\n",
       "      <td>3</td>\n",
       "      <td>[conservation, chemistries, impact, environmen...</td>\n",
       "    </tr>\n",
       "  </tbody>\n",
       "</table>\n",
       "</div>"
      ],
      "text/plain": [
       "                                            Sentence  topicNumber  \\\n",
       "0  Covering fiscal year 2020 Environmental Progre...            2   \n",
       "1  Environmental Progress Report 2Introduction Cl...            2   \n",
       "2  In year like , Apple continued work global net...            0   \n",
       "3  As company , moved ahead greater urgency creat...            6   \n",
       "4  Apple carbon neutral worldwide operations , co...            0   \n",
       "5  Those products use recycled materials , like 4...            2   \n",
       "6  Well year , setting ambitious goals Apple help...            0   \n",
       "7  That progress powered new renewable energy˜pro...            0   \n",
       "8  While helped bring 4 gigawatts renewable energ...            1   \n",
       "9  That included innovative new partnership Conse...            3   \n",
       "\n",
       "                                            topWords  \n",
       "0  [000, change, climate, environmental, appendix...  \n",
       "1  [000, change, climate, environmental, appendix...  \n",
       "2  [100, footprint, climate, projects, percent, e...  \n",
       "3  [chemicals, safety, supply, recycled, supplier...  \n",
       "4  [100, footprint, climate, projects, percent, e...  \n",
       "5  [000, change, climate, environmental, appendix...  \n",
       "6  [100, footprint, climate, projects, percent, e...  \n",
       "7  [100, footprint, climate, projects, percent, e...  \n",
       "8  [efficiency, facilities, 2020, fiscal, use, ap...  \n",
       "9  [conservation, chemistries, impact, environmen...  "
      ]
     },
     "execution_count": 34,
     "metadata": {},
     "output_type": "execute_result"
    }
   ],
   "source": [
    "df.head(10)"
   ]
  },
  {
   "cell_type": "code",
   "execution_count": 36,
   "id": "1cbf134c",
   "metadata": {},
   "outputs": [
    {
     "data": {
      "text/html": [
       "<div>\n",
       "<style scoped>\n",
       "    .dataframe tbody tr th:only-of-type {\n",
       "        vertical-align: middle;\n",
       "    }\n",
       "\n",
       "    .dataframe tbody tr th {\n",
       "        vertical-align: top;\n",
       "    }\n",
       "\n",
       "    .dataframe thead th {\n",
       "        text-align: right;\n",
       "    }\n",
       "</style>\n",
       "<table border=\"1\" class=\"dataframe\">\n",
       "  <thead>\n",
       "    <tr style=\"text-align: right;\">\n",
       "      <th></th>\n",
       "      <th>Sentence</th>\n",
       "      <th>topicNumber</th>\n",
       "      <th>topWords</th>\n",
       "    </tr>\n",
       "  </thead>\n",
       "  <tbody>\n",
       "    <tr>\n",
       "      <th>2</th>\n",
       "      <td>In year like , Apple continued work global net...</td>\n",
       "      <td>0</td>\n",
       "      <td>[100, footprint, climate, projects, percent, e...</td>\n",
       "    </tr>\n",
       "    <tr>\n",
       "      <th>4</th>\n",
       "      <td>Apple carbon neutral worldwide operations , co...</td>\n",
       "      <td>0</td>\n",
       "      <td>[100, footprint, climate, projects, percent, e...</td>\n",
       "    </tr>\n",
       "    <tr>\n",
       "      <th>6</th>\n",
       "      <td>Well year , setting ambitious goals Apple help...</td>\n",
       "      <td>0</td>\n",
       "      <td>[100, footprint, climate, projects, percent, e...</td>\n",
       "    </tr>\n",
       "    <tr>\n",
       "      <th>7</th>\n",
       "      <td>That progress powered new renewable energy˜pro...</td>\n",
       "      <td>0</td>\n",
       "      <td>[100, footprint, climate, projects, percent, e...</td>\n",
       "    </tr>\n",
       "    <tr>\n",
       "      <th>10</th>\n",
       "      <td>At moment rebuilding , know help spur economic...</td>\n",
       "      <td>0</td>\n",
       "      <td>[100, footprint, climate, projects, percent, e...</td>\n",
       "    </tr>\n",
       "  </tbody>\n",
       "</table>\n",
       "</div>"
      ],
      "text/plain": [
       "                                             Sentence  topicNumber  \\\n",
       "2   In year like , Apple continued work global net...            0   \n",
       "4   Apple carbon neutral worldwide operations , co...            0   \n",
       "6   Well year , setting ambitious goals Apple help...            0   \n",
       "7   That progress powered new renewable energy˜pro...            0   \n",
       "10  At moment rebuilding , know help spur economic...            0   \n",
       "\n",
       "                                             topWords  \n",
       "2   [100, footprint, climate, projects, percent, e...  \n",
       "4   [100, footprint, climate, projects, percent, e...  \n",
       "6   [100, footprint, climate, projects, percent, e...  \n",
       "7   [100, footprint, climate, projects, percent, e...  \n",
       "10  [100, footprint, climate, projects, percent, e...  "
      ]
     },
     "execution_count": 36,
     "metadata": {},
     "output_type": "execute_result"
    }
   ],
   "source": [
    "# Analyse the topics\n",
    "df_topic_0 = df[df['topicNumber'] == 0]\n",
    "df_topic_0.head()"
   ]
  },
  {
   "cell_type": "code",
   "execution_count": 38,
   "id": "7eb37a0f",
   "metadata": {},
   "outputs": [
    {
     "name": "stdout",
     "output_type": "stream",
     "text": [
      "['100', 'footprint', 'climate', 'projects', 'percent', 'energy', 'apple', 'renewable', 'emissions', 'carbon']\n"
     ]
    }
   ],
   "source": [
    "# What is topic 1 about?\n",
    "print(df_topic_0.iloc[0]['topWords'])"
   ]
  },
  {
   "cell_type": "markdown",
   "id": "98418625",
   "metadata": {},
   "source": [
    "## What are the top 10 words for each topic?"
   ]
  },
  {
   "cell_type": "code",
   "execution_count": 40,
   "id": "032c371d",
   "metadata": {},
   "outputs": [
    {
     "name": "stdout",
     "output_type": "stream",
     "text": [
      "Top 10 words for topic 0\n",
      "['100', 'footprint', 'climate', 'projects', 'percent', 'energy', 'apple', 'renewable', 'emissions', 'carbon']\n",
      "\n",
      "\n",
      "Top 10 words for topic 1\n",
      "['efficiency', 'facilities', '2020', 'fiscal', 'use', 'apple', 'year', 'data', 'renewable', 'energy']\n",
      "\n",
      "\n",
      "Top 10 words for topic 2\n",
      "['000', 'change', 'climate', 'environmental', 'appendix', 'progress', 'report', 'smarter', 'chemistry', 'resources']\n",
      "\n",
      "\n",
      "Top 10 words for topic 3\n",
      "['conservation', 'chemistries', 'impact', 'environmental', 'materials', 'information', 'life', 'use', 'product', 'apple']\n",
      "\n",
      "\n",
      "Top 10 words for topic 4\n",
      "['use', 'local', 'industry', 'devices', 'percent', 've', 'solar', 'project', 'power', 'repair']\n",
      "\n",
      "\n",
      "Top 10 words for topic 5\n",
      "['new', 'cooling', 'local', 'air', 'waste', 'use', 'data', 'percent', 'sources', 'water']\n",
      "\n",
      "\n",
      "Top 10 words for topic 6\n",
      "['chemicals', 'safety', 'supply', 'recycled', 'suppliers', 'use', 'material', 'apple', 'materials', 'products']\n",
      "\n",
      "\n"
     ]
    }
   ],
   "source": [
    "for index, topic in enumerate(LDA.components_):\n",
    "    print(f'Top 10 words for topic {index}')\n",
    "    print([cv.get_feature_names()[i] for i in topic.argsort()[-10:]])\n",
    "    print('\\n')"
   ]
  },
  {
   "cell_type": "code",
   "execution_count": null,
   "id": "40699e6a",
   "metadata": {},
   "outputs": [],
   "source": []
  }
 ],
 "metadata": {
  "kernelspec": {
   "display_name": "Python 3 (ipykernel)",
   "language": "python",
   "name": "python3"
  },
  "language_info": {
   "codemirror_mode": {
    "name": "ipython",
    "version": 3
   },
   "file_extension": ".py",
   "mimetype": "text/x-python",
   "name": "python",
   "nbconvert_exporter": "python",
   "pygments_lexer": "ipython3",
   "version": "3.7.11"
  }
 },
 "nbformat": 4,
 "nbformat_minor": 5
}
