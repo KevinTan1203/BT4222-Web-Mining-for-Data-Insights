{
 "cells": [
  {
   "cell_type": "markdown",
   "metadata": {
    "id": "cVHzcftorbKe"
   },
   "source": [
    "# Market Capitalisation\n",
    "This notebook utilises web scrapping techniques to derive the market capitalisation for companies listed in our group project. "
   ]
  },
  {
   "cell_type": "code",
   "execution_count": null,
   "metadata": {
    "colab": {
     "base_uri": "https://localhost:8080/"
    },
    "executionInfo": {
     "elapsed": 3094,
     "status": "ok",
     "timestamp": 1649406786826,
     "user": {
      "displayName": "Joel Toh",
      "userId": "14988428230853926070"
     },
     "user_tz": -480
    },
    "id": "vMtSg9O3rpX2",
    "outputId": "22d7ceb3-316a-4a31-dddc-fb5db2accaae"
   },
   "outputs": [
    {
     "name": "stdout",
     "output_type": "stream",
     "text": [
      "Requirement already satisfied: yfinance in /usr/local/lib/python3.7/dist-packages (0.1.70)\n",
      "Requirement already satisfied: numpy>=1.15 in /usr/local/lib/python3.7/dist-packages (from yfinance) (1.21.5)\n",
      "Requirement already satisfied: lxml>=4.5.1 in /usr/local/lib/python3.7/dist-packages (from yfinance) (4.8.0)\n",
      "Requirement already satisfied: multitasking>=0.0.7 in /usr/local/lib/python3.7/dist-packages (from yfinance) (0.0.10)\n",
      "Requirement already satisfied: requests>=2.26 in /usr/local/lib/python3.7/dist-packages (from yfinance) (2.27.1)\n",
      "Requirement already satisfied: pandas>=0.24.0 in /usr/local/lib/python3.7/dist-packages (from yfinance) (1.3.5)\n",
      "Requirement already satisfied: pytz>=2017.3 in /usr/local/lib/python3.7/dist-packages (from pandas>=0.24.0->yfinance) (2018.9)\n",
      "Requirement already satisfied: python-dateutil>=2.7.3 in /usr/local/lib/python3.7/dist-packages (from pandas>=0.24.0->yfinance) (2.8.2)\n",
      "Requirement already satisfied: six>=1.5 in /usr/local/lib/python3.7/dist-packages (from python-dateutil>=2.7.3->pandas>=0.24.0->yfinance) (1.15.0)\n",
      "Requirement already satisfied: certifi>=2017.4.17 in /usr/local/lib/python3.7/dist-packages (from requests>=2.26->yfinance) (2021.10.8)\n",
      "Requirement already satisfied: charset-normalizer~=2.0.0 in /usr/local/lib/python3.7/dist-packages (from requests>=2.26->yfinance) (2.0.12)\n",
      "Requirement already satisfied: urllib3<1.27,>=1.21.1 in /usr/local/lib/python3.7/dist-packages (from requests>=2.26->yfinance) (1.24.3)\n",
      "Requirement already satisfied: idna<4,>=2.5 in /usr/local/lib/python3.7/dist-packages (from requests>=2.26->yfinance) (2.10)\n"
     ]
    }
   ],
   "source": [
    "# Installing the necessary dependency\n",
    "!pip install yfinance\n",
    "!pip install currency"
   ]
  },
  {
   "cell_type": "code",
   "execution_count": null,
   "metadata": {
    "id": "HDZQMuCUrjP2"
   },
   "outputs": [],
   "source": [
    "import pandas as pd\n",
    "import requests\n",
    "import yfinance as yf\n",
    "from currency_converter import CurrencyConverter"
   ]
  },
  {
   "cell_type": "markdown",
   "metadata": {
    "id": "ELpVPM7TrU_y"
   },
   "source": [
    "Connect to googledrive so as to import csv files with the ticker symbol for each company"
   ]
  },
  {
   "cell_type": "code",
   "execution_count": null,
   "metadata": {
    "colab": {
     "base_uri": "https://localhost:8080/"
    },
    "executionInfo": {
     "elapsed": 2260,
     "status": "ok",
     "timestamp": 1649406790454,
     "user": {
      "displayName": "Joel Toh",
      "userId": "14988428230853926070"
     },
     "user_tz": -480
    },
    "id": "DnX6IUE7rr41",
    "outputId": "d34b0996-7aa1-4603-daed-d1f360469f8d"
   },
   "outputs": [
    {
     "name": "stdout",
     "output_type": "stream",
     "text": [
      "Drive already mounted at /content/drive; to attempt to forcibly remount, call drive.mount(\"/content/drive\", force_remount=True).\n"
     ]
    }
   ],
   "source": [
    "from google.colab import drive\n",
    "drive.mount('/content/drive')\n",
    "\n",
    "path = '/content/drive/My Drive/BT4222/mktcapwithticker.csv'\n",
    "data = pd.read_csv(path)"
   ]
  },
  {
   "cell_type": "code",
   "execution_count": null,
   "metadata": {
    "colab": {
     "base_uri": "https://localhost:8080/",
     "height": 423
    },
    "executionInfo": {
     "elapsed": 286,
     "status": "ok",
     "timestamp": 1649406797869,
     "user": {
      "displayName": "Joel Toh",
      "userId": "14988428230853926070"
     },
     "user_tz": -480
    },
    "id": "MgR12PyWWOdi",
    "outputId": "c1c1fad6-7a6b-496d-d26d-c0deff8d209d"
   },
   "outputs": [
    {
     "data": {
      "text/html": [
       "\n",
       "  <div id=\"df-3f3f6acb-6780-4665-9342-9568ddad2ac4\">\n",
       "    <div class=\"colab-df-container\">\n",
       "      <div>\n",
       "<style scoped>\n",
       "    .dataframe tbody tr th:only-of-type {\n",
       "        vertical-align: middle;\n",
       "    }\n",
       "\n",
       "    .dataframe tbody tr th {\n",
       "        vertical-align: top;\n",
       "    }\n",
       "\n",
       "    .dataframe thead th {\n",
       "        text-align: right;\n",
       "    }\n",
       "</style>\n",
       "<table border=\"1\" class=\"dataframe\">\n",
       "  <thead>\n",
       "    <tr style=\"text-align: right;\">\n",
       "      <th></th>\n",
       "      <th>Companies</th>\n",
       "      <th>Ticker</th>\n",
       "    </tr>\n",
       "  </thead>\n",
       "  <tbody>\n",
       "    <tr>\n",
       "      <th>0</th>\n",
       "      <td>24SevenOffice Group</td>\n",
       "      <td>719.F</td>\n",
       "    </tr>\n",
       "    <tr>\n",
       "      <th>1</th>\n",
       "      <td>2U, Inc</td>\n",
       "      <td>TWOU</td>\n",
       "    </tr>\n",
       "    <tr>\n",
       "      <th>2</th>\n",
       "      <td>Absolute Software Corp</td>\n",
       "      <td>ABST</td>\n",
       "    </tr>\n",
       "    <tr>\n",
       "      <th>3</th>\n",
       "      <td>Accenture</td>\n",
       "      <td>ACN</td>\n",
       "    </tr>\n",
       "    <tr>\n",
       "      <th>4</th>\n",
       "      <td>ACI Worldwide, Inc</td>\n",
       "      <td>ACIW</td>\n",
       "    </tr>\n",
       "    <tr>\n",
       "      <th>...</th>\n",
       "      <td>...</td>\n",
       "      <td>...</td>\n",
       "    </tr>\n",
       "    <tr>\n",
       "      <th>474</th>\n",
       "      <td>Zensar Technologies Ltd</td>\n",
       "      <td>ZENSARTECH.BO</td>\n",
       "    </tr>\n",
       "    <tr>\n",
       "      <th>475</th>\n",
       "      <td>Ziff Davis, Inc</td>\n",
       "      <td>ZD</td>\n",
       "    </tr>\n",
       "    <tr>\n",
       "      <th>476</th>\n",
       "      <td>Zillow Group Inc</td>\n",
       "      <td>Z</td>\n",
       "    </tr>\n",
       "    <tr>\n",
       "      <th>477</th>\n",
       "      <td>Zix Corp</td>\n",
       "      <td>ZIXI</td>\n",
       "    </tr>\n",
       "    <tr>\n",
       "      <th>478</th>\n",
       "      <td>ZoomInfo Technologies, Inc</td>\n",
       "      <td>ZI</td>\n",
       "    </tr>\n",
       "  </tbody>\n",
       "</table>\n",
       "<p>479 rows × 2 columns</p>\n",
       "</div>\n",
       "      <button class=\"colab-df-convert\" onclick=\"convertToInteractive('df-3f3f6acb-6780-4665-9342-9568ddad2ac4')\"\n",
       "              title=\"Convert this dataframe to an interactive table.\"\n",
       "              style=\"display:none;\">\n",
       "        \n",
       "  <svg xmlns=\"http://www.w3.org/2000/svg\" height=\"24px\"viewBox=\"0 0 24 24\"\n",
       "       width=\"24px\">\n",
       "    <path d=\"M0 0h24v24H0V0z\" fill=\"none\"/>\n",
       "    <path d=\"M18.56 5.44l.94 2.06.94-2.06 2.06-.94-2.06-.94-.94-2.06-.94 2.06-2.06.94zm-11 1L8.5 8.5l.94-2.06 2.06-.94-2.06-.94L8.5 2.5l-.94 2.06-2.06.94zm10 10l.94 2.06.94-2.06 2.06-.94-2.06-.94-.94-2.06-.94 2.06-2.06.94z\"/><path d=\"M17.41 7.96l-1.37-1.37c-.4-.4-.92-.59-1.43-.59-.52 0-1.04.2-1.43.59L10.3 9.45l-7.72 7.72c-.78.78-.78 2.05 0 2.83L4 21.41c.39.39.9.59 1.41.59.51 0 1.02-.2 1.41-.59l7.78-7.78 2.81-2.81c.8-.78.8-2.07 0-2.86zM5.41 20L4 18.59l7.72-7.72 1.47 1.35L5.41 20z\"/>\n",
       "  </svg>\n",
       "      </button>\n",
       "      \n",
       "  <style>\n",
       "    .colab-df-container {\n",
       "      display:flex;\n",
       "      flex-wrap:wrap;\n",
       "      gap: 12px;\n",
       "    }\n",
       "\n",
       "    .colab-df-convert {\n",
       "      background-color: #E8F0FE;\n",
       "      border: none;\n",
       "      border-radius: 50%;\n",
       "      cursor: pointer;\n",
       "      display: none;\n",
       "      fill: #1967D2;\n",
       "      height: 32px;\n",
       "      padding: 0 0 0 0;\n",
       "      width: 32px;\n",
       "    }\n",
       "\n",
       "    .colab-df-convert:hover {\n",
       "      background-color: #E2EBFA;\n",
       "      box-shadow: 0px 1px 2px rgba(60, 64, 67, 0.3), 0px 1px 3px 1px rgba(60, 64, 67, 0.15);\n",
       "      fill: #174EA6;\n",
       "    }\n",
       "\n",
       "    [theme=dark] .colab-df-convert {\n",
       "      background-color: #3B4455;\n",
       "      fill: #D2E3FC;\n",
       "    }\n",
       "\n",
       "    [theme=dark] .colab-df-convert:hover {\n",
       "      background-color: #434B5C;\n",
       "      box-shadow: 0px 1px 3px 1px rgba(0, 0, 0, 0.15);\n",
       "      filter: drop-shadow(0px 1px 2px rgba(0, 0, 0, 0.3));\n",
       "      fill: #FFFFFF;\n",
       "    }\n",
       "  </style>\n",
       "\n",
       "      <script>\n",
       "        const buttonEl =\n",
       "          document.querySelector('#df-3f3f6acb-6780-4665-9342-9568ddad2ac4 button.colab-df-convert');\n",
       "        buttonEl.style.display =\n",
       "          google.colab.kernel.accessAllowed ? 'block' : 'none';\n",
       "\n",
       "        async function convertToInteractive(key) {\n",
       "          const element = document.querySelector('#df-3f3f6acb-6780-4665-9342-9568ddad2ac4');\n",
       "          const dataTable =\n",
       "            await google.colab.kernel.invokeFunction('convertToInteractive',\n",
       "                                                     [key], {});\n",
       "          if (!dataTable) return;\n",
       "\n",
       "          const docLinkHtml = 'Like what you see? Visit the ' +\n",
       "            '<a target=\"_blank\" href=https://colab.research.google.com/notebooks/data_table.ipynb>data table notebook</a>'\n",
       "            + ' to learn more about interactive tables.';\n",
       "          element.innerHTML = '';\n",
       "          dataTable['output_type'] = 'display_data';\n",
       "          await google.colab.output.renderOutput(dataTable, element);\n",
       "          const docLink = document.createElement('div');\n",
       "          docLink.innerHTML = docLinkHtml;\n",
       "          element.appendChild(docLink);\n",
       "        }\n",
       "      </script>\n",
       "    </div>\n",
       "  </div>\n",
       "  "
      ],
      "text/plain": [
       "                      Companies         Ticker\n",
       "0           24SevenOffice Group          719.F\n",
       "1                       2U, Inc           TWOU\n",
       "2        Absolute Software Corp           ABST\n",
       "3                     Accenture            ACN\n",
       "4            ACI Worldwide, Inc           ACIW\n",
       "..                          ...            ...\n",
       "474     Zensar Technologies Ltd  ZENSARTECH.BO\n",
       "475             Ziff Davis, Inc             ZD\n",
       "476            Zillow Group Inc              Z\n",
       "477                    Zix Corp           ZIXI\n",
       "478  ZoomInfo Technologies, Inc             ZI\n",
       "\n",
       "[479 rows x 2 columns]"
      ]
     },
     "execution_count": 4,
     "metadata": {},
     "output_type": "execute_result"
    }
   ],
   "source": [
    "data2=data[[\"Companies\",\"Ticker\"]]\n",
    "data2"
   ]
  },
  {
   "cell_type": "markdown",
   "metadata": {
    "id": "U8Clmu-rrgAi"
   },
   "source": [
    "Segment the frames into batch size 100. Rationale for doing so is because Yahoo finance allows a maximum of 100 tickers per api call "
   ]
  },
  {
   "cell_type": "code",
   "execution_count": null,
   "metadata": {
    "colab": {
     "base_uri": "https://localhost:8080/"
    },
    "executionInfo": {
     "elapsed": 280,
     "status": "ok",
     "timestamp": 1649406801910,
     "user": {
      "displayName": "Joel Toh",
      "userId": "14988428230853926070"
     },
     "user_tz": -480
    },
    "id": "dZbz_-TCr5Zx",
    "outputId": "8c681f6e-0a54-4638-d2ae-4391e64c0126"
   },
   "outputs": [
    {
     "name": "stdout",
     "output_type": "stream",
     "text": [
      "479\n",
      "100\n"
     ]
    }
   ],
   "source": [
    "S = 100 # size that i want\n",
    "N = int(len(data)/S)\n",
    "frames = [data2.iloc[i*S:(i+1)*S].copy() for i in range(N+1) ]\n",
    "print(len(data2))\n",
    "print(len(frames[0]))"
   ]
  },
  {
   "cell_type": "code",
   "execution_count": null,
   "metadata": {
    "colab": {
     "base_uri": "https://localhost:8080/"
    },
    "executionInfo": {
     "elapsed": 297,
     "status": "ok",
     "timestamp": 1649406805248,
     "user": {
      "displayName": "Joel Toh",
      "userId": "14988428230853926070"
     },
     "user_tz": -480
    },
    "id": "u1O1rALxYnkA",
    "outputId": "0336cebb-bc72-4056-fa42-268e3c3d4052"
   },
   "outputs": [
    {
     "name": "stdout",
     "output_type": "stream",
     "text": [
      "                 Companies    Ticker\n",
      "0      24SevenOffice Group     719.F\n",
      "1                  2U, Inc      TWOU\n",
      "2   Absolute Software Corp      ABST\n",
      "3                Accenture       ACN\n",
      "4       ACI Worldwide, Inc      ACIW\n",
      "..                     ...       ...\n",
      "95           Coursera, Inc      COUR\n",
      "96    Crayon Group Holding  CRAYN.OL\n",
      "97                  Criteo      CRTO\n",
      "98       CSAM Health Group   CSAM.OL\n",
      "99   CWT International Ltd       NaN\n",
      "\n",
      "[100 rows x 2 columns]\n"
     ]
    }
   ],
   "source": [
    "print(frames[0])"
   ]
  },
  {
   "cell_type": "markdown",
   "metadata": {
    "id": "vkGG9cuYryBj"
   },
   "source": [
    "Steps to scrape the market capitalisation data:\n",
    "- Input the api key\n",
    "- Change the list rating to which is being used currently\n",
    "- Change frame[x] to the respective frame "
   ]
  },
  {
   "cell_type": "code",
   "execution_count": null,
   "metadata": {
    "colab": {
     "base_uri": "https://localhost:8080/"
    },
    "executionInfo": {
     "elapsed": 13557,
     "status": "ok",
     "timestamp": 1649413832537,
     "user": {
      "displayName": "Joel Toh",
      "userId": "14988428230853926070"
     },
     "user_tz": -480
    },
    "id": "U1TweTa9S_79",
    "outputId": "9ec716ef-fa2d-4a83-d551-b3a1d22f0c98"
   },
   "outputs": [
    {
     "name": "stdout",
     "output_type": "stream",
     "text": [
      "ticker6533.TW\n",
      "692299852.1237915\n"
     ]
    }
   ],
   "source": [
    "c = CurrencyConverter()\n",
    "\n",
    "def getStock(search_term):\n",
    "    results = []\n",
    "    query = requests.get(f'https://yfapi.net/v6/finance/autocomplete?region=IN&lang=en&query={search_term}', \n",
    "    headers={\n",
    "        'accept': 'application/json',\n",
    "        'X-API-KEY': 'Z7cly4ZddSTNL24yAJuO7K5412pyay71cJ1kqp41'\n",
    "    })\n",
    "    response = query.json()\n",
    "    for i in response['ResultSet']['Result']:\n",
    "          final = i['symbol']\n",
    "          results.append(final)\n",
    "          stock = yf.Ticker(results[0])\n",
    "    try:\n",
    "       \n",
    "        mktcap = stock.info['marketCap']\n",
    "        currency = stock.info[\"currency\"]\n",
    "        #yfinance outputs currency for GBP as GBp. We will need to change it for the currency conversion.It also doesnt have TWD\n",
    "        if currency == \"GBp\":\n",
    "          mktcap =c.convert(mktcap,'GBP','USD')\n",
    "        elif currency =='TWD':\n",
    "          mktcap = mktcap*0.03460263 \n",
    "        else:\n",
    "          mktcap = c.convert(mktcap,currency,'USD')\n",
    "        # price = stock.info[\"regularMarketPrice\"]\n",
    "        # full_name = stock.info['longName']\n",
    "        # currency = stock.info[\"currency\"]\n",
    "        return mktcap\n",
    "    except Exception as e:\n",
    "        # return (f\"Company cannot be retrieved{stock}\")\n",
    "        return 0\n",
    "# rating4=[]\n",
    "# for row in list(frames[4][\"Ticker\"]):\n",
    "#   stock = row\n",
    "#   final = getStock(stock)\n",
    "#   rating4.append(final)\n",
    "stock=input(\"ticker\")\n",
    "mktcap=getStock(stock)\n",
    "print(mktcap)"
   ]
  },
  {
   "cell_type": "code",
   "execution_count": null,
   "metadata": {
    "colab": {
     "base_uri": "https://localhost:8080/"
    },
    "executionInfo": {
     "elapsed": 5,
     "status": "ok",
     "timestamp": 1649410394198,
     "user": {
      "displayName": "Joel Toh",
      "userId": "14988428230853926070"
     },
     "user_tz": -480
    },
    "id": "xQcBTrdXapCj",
    "outputId": "476724f7-5bec-4d9b-f7e3-582fba72eabb"
   },
   "outputs": [
    {
     "data": {
      "text/plain": [
       "79"
      ]
     },
     "execution_count": 24,
     "metadata": {},
     "output_type": "execute_result"
    }
   ],
   "source": [
    "len(rating4)"
   ]
  },
  {
   "cell_type": "markdown",
   "metadata": {
    "id": "rf7P1QjHsovB"
   },
   "source": [
    "Combine all lists into original"
   ]
  },
  {
   "cell_type": "code",
   "execution_count": null,
   "metadata": {
    "colab": {
     "base_uri": "https://localhost:8080/"
    },
    "executionInfo": {
     "elapsed": 281,
     "status": "ok",
     "timestamp": 1649410400893,
     "user": {
      "displayName": "Joel Toh",
      "userId": "14988428230853926070"
     },
     "user_tz": -480
    },
    "id": "vw0FRUnJUeG2",
    "outputId": "26bfdfc5-b6a0-4bd7-e3e2-de6aecb96e1a"
   },
   "outputs": [
    {
     "data": {
      "text/plain": [
       "479"
      ]
     },
     "execution_count": 25,
     "metadata": {},
     "output_type": "execute_result"
    }
   ],
   "source": [
    "#function to copy all the ratings together\n",
    "result = rating0+rating1+rating2+rating3+rating4\n",
    "result\n",
    "len(result)"
   ]
  },
  {
   "cell_type": "markdown",
   "metadata": {
    "id": "c4-08L8tsrQ3"
   },
   "source": [
    "Append data to original dataframe"
   ]
  },
  {
   "cell_type": "code",
   "execution_count": null,
   "metadata": {
    "colab": {
     "base_uri": "https://localhost:8080/",
     "height": 527
    },
    "executionInfo": {
     "elapsed": 12,
     "status": "ok",
     "timestamp": 1649410406697,
     "user": {
      "displayName": "Joel Toh",
      "userId": "14988428230853926070"
     },
     "user_tz": -480
    },
    "id": "aqVqt-B4eYOQ",
    "outputId": "c60cf318-268b-4788-c208-b4129c867bed"
   },
   "outputs": [
    {
     "name": "stderr",
     "output_type": "stream",
     "text": [
      "/usr/local/lib/python3.7/dist-packages/ipykernel_launcher.py:2: SettingWithCopyWarning: \n",
      "A value is trying to be set on a copy of a slice from a DataFrame.\n",
      "Try using .loc[row_indexer,col_indexer] = value instead\n",
      "\n",
      "See the caveats in the documentation: https://pandas.pydata.org/pandas-docs/stable/user_guide/indexing.html#returning-a-view-versus-a-copy\n",
      "  \n"
     ]
    },
    {
     "data": {
      "text/html": [
       "\n",
       "  <div id=\"df-d5e0f0ae-6f95-4454-bbf9-e9f0873a11e9\">\n",
       "    <div class=\"colab-df-container\">\n",
       "      <div>\n",
       "<style scoped>\n",
       "    .dataframe tbody tr th:only-of-type {\n",
       "        vertical-align: middle;\n",
       "    }\n",
       "\n",
       "    .dataframe tbody tr th {\n",
       "        vertical-align: top;\n",
       "    }\n",
       "\n",
       "    .dataframe thead th {\n",
       "        text-align: right;\n",
       "    }\n",
       "</style>\n",
       "<table border=\"1\" class=\"dataframe\">\n",
       "  <thead>\n",
       "    <tr style=\"text-align: right;\">\n",
       "      <th></th>\n",
       "      <th>Companies</th>\n",
       "      <th>Ticker</th>\n",
       "      <th>mktcapUSD</th>\n",
       "    </tr>\n",
       "  </thead>\n",
       "  <tbody>\n",
       "    <tr>\n",
       "      <th>0</th>\n",
       "      <td>24SevenOffice Group</td>\n",
       "      <td>719.F</td>\n",
       "      <td>9.212487e+07</td>\n",
       "    </tr>\n",
       "    <tr>\n",
       "      <th>1</th>\n",
       "      <td>2U, Inc</td>\n",
       "      <td>TWOU</td>\n",
       "      <td>9.673635e+08</td>\n",
       "    </tr>\n",
       "    <tr>\n",
       "      <th>2</th>\n",
       "      <td>Absolute Software Corp</td>\n",
       "      <td>ABST</td>\n",
       "      <td>4.188821e+08</td>\n",
       "    </tr>\n",
       "    <tr>\n",
       "      <th>3</th>\n",
       "      <td>Accenture</td>\n",
       "      <td>ACN</td>\n",
       "      <td>2.166511e+11</td>\n",
       "    </tr>\n",
       "    <tr>\n",
       "      <th>4</th>\n",
       "      <td>ACI Worldwide, Inc</td>\n",
       "      <td>ACIW</td>\n",
       "      <td>3.068757e+09</td>\n",
       "    </tr>\n",
       "    <tr>\n",
       "      <th>...</th>\n",
       "      <td>...</td>\n",
       "      <td>...</td>\n",
       "      <td>...</td>\n",
       "    </tr>\n",
       "    <tr>\n",
       "      <th>474</th>\n",
       "      <td>Zensar Technologies Ltd</td>\n",
       "      <td>ZENSARTECH.BO</td>\n",
       "      <td>1.156896e+09</td>\n",
       "    </tr>\n",
       "    <tr>\n",
       "      <th>475</th>\n",
       "      <td>Ziff Davis, Inc</td>\n",
       "      <td>ZD</td>\n",
       "      <td>4.538474e+09</td>\n",
       "    </tr>\n",
       "    <tr>\n",
       "      <th>476</th>\n",
       "      <td>Zillow Group Inc</td>\n",
       "      <td>Z</td>\n",
       "      <td>1.205327e+10</td>\n",
       "    </tr>\n",
       "    <tr>\n",
       "      <th>477</th>\n",
       "      <td>Zix Corp</td>\n",
       "      <td>ZIXI</td>\n",
       "      <td>6.522908e+08</td>\n",
       "    </tr>\n",
       "    <tr>\n",
       "      <th>478</th>\n",
       "      <td>ZoomInfo Technologies, Inc</td>\n",
       "      <td>ZI</td>\n",
       "      <td>2.395588e+10</td>\n",
       "    </tr>\n",
       "  </tbody>\n",
       "</table>\n",
       "<p>479 rows × 3 columns</p>\n",
       "</div>\n",
       "      <button class=\"colab-df-convert\" onclick=\"convertToInteractive('df-d5e0f0ae-6f95-4454-bbf9-e9f0873a11e9')\"\n",
       "              title=\"Convert this dataframe to an interactive table.\"\n",
       "              style=\"display:none;\">\n",
       "        \n",
       "  <svg xmlns=\"http://www.w3.org/2000/svg\" height=\"24px\"viewBox=\"0 0 24 24\"\n",
       "       width=\"24px\">\n",
       "    <path d=\"M0 0h24v24H0V0z\" fill=\"none\"/>\n",
       "    <path d=\"M18.56 5.44l.94 2.06.94-2.06 2.06-.94-2.06-.94-.94-2.06-.94 2.06-2.06.94zm-11 1L8.5 8.5l.94-2.06 2.06-.94-2.06-.94L8.5 2.5l-.94 2.06-2.06.94zm10 10l.94 2.06.94-2.06 2.06-.94-2.06-.94-.94-2.06-.94 2.06-2.06.94z\"/><path d=\"M17.41 7.96l-1.37-1.37c-.4-.4-.92-.59-1.43-.59-.52 0-1.04.2-1.43.59L10.3 9.45l-7.72 7.72c-.78.78-.78 2.05 0 2.83L4 21.41c.39.39.9.59 1.41.59.51 0 1.02-.2 1.41-.59l7.78-7.78 2.81-2.81c.8-.78.8-2.07 0-2.86zM5.41 20L4 18.59l7.72-7.72 1.47 1.35L5.41 20z\"/>\n",
       "  </svg>\n",
       "      </button>\n",
       "      \n",
       "  <style>\n",
       "    .colab-df-container {\n",
       "      display:flex;\n",
       "      flex-wrap:wrap;\n",
       "      gap: 12px;\n",
       "    }\n",
       "\n",
       "    .colab-df-convert {\n",
       "      background-color: #E8F0FE;\n",
       "      border: none;\n",
       "      border-radius: 50%;\n",
       "      cursor: pointer;\n",
       "      display: none;\n",
       "      fill: #1967D2;\n",
       "      height: 32px;\n",
       "      padding: 0 0 0 0;\n",
       "      width: 32px;\n",
       "    }\n",
       "\n",
       "    .colab-df-convert:hover {\n",
       "      background-color: #E2EBFA;\n",
       "      box-shadow: 0px 1px 2px rgba(60, 64, 67, 0.3), 0px 1px 3px 1px rgba(60, 64, 67, 0.15);\n",
       "      fill: #174EA6;\n",
       "    }\n",
       "\n",
       "    [theme=dark] .colab-df-convert {\n",
       "      background-color: #3B4455;\n",
       "      fill: #D2E3FC;\n",
       "    }\n",
       "\n",
       "    [theme=dark] .colab-df-convert:hover {\n",
       "      background-color: #434B5C;\n",
       "      box-shadow: 0px 1px 3px 1px rgba(0, 0, 0, 0.15);\n",
       "      filter: drop-shadow(0px 1px 2px rgba(0, 0, 0, 0.3));\n",
       "      fill: #FFFFFF;\n",
       "    }\n",
       "  </style>\n",
       "\n",
       "      <script>\n",
       "        const buttonEl =\n",
       "          document.querySelector('#df-d5e0f0ae-6f95-4454-bbf9-e9f0873a11e9 button.colab-df-convert');\n",
       "        buttonEl.style.display =\n",
       "          google.colab.kernel.accessAllowed ? 'block' : 'none';\n",
       "\n",
       "        async function convertToInteractive(key) {\n",
       "          const element = document.querySelector('#df-d5e0f0ae-6f95-4454-bbf9-e9f0873a11e9');\n",
       "          const dataTable =\n",
       "            await google.colab.kernel.invokeFunction('convertToInteractive',\n",
       "                                                     [key], {});\n",
       "          if (!dataTable) return;\n",
       "\n",
       "          const docLinkHtml = 'Like what you see? Visit the ' +\n",
       "            '<a target=\"_blank\" href=https://colab.research.google.com/notebooks/data_table.ipynb>data table notebook</a>'\n",
       "            + ' to learn more about interactive tables.';\n",
       "          element.innerHTML = '';\n",
       "          dataTable['output_type'] = 'display_data';\n",
       "          await google.colab.output.renderOutput(dataTable, element);\n",
       "          const docLink = document.createElement('div');\n",
       "          docLink.innerHTML = docLinkHtml;\n",
       "          element.appendChild(docLink);\n",
       "        }\n",
       "      </script>\n",
       "    </div>\n",
       "  </div>\n",
       "  "
      ],
      "text/plain": [
       "                      Companies         Ticker     mktcapUSD\n",
       "0           24SevenOffice Group          719.F  9.212487e+07\n",
       "1                       2U, Inc           TWOU  9.673635e+08\n",
       "2        Absolute Software Corp           ABST  4.188821e+08\n",
       "3                     Accenture            ACN  2.166511e+11\n",
       "4            ACI Worldwide, Inc           ACIW  3.068757e+09\n",
       "..                          ...            ...           ...\n",
       "474     Zensar Technologies Ltd  ZENSARTECH.BO  1.156896e+09\n",
       "475             Ziff Davis, Inc             ZD  4.538474e+09\n",
       "476            Zillow Group Inc              Z  1.205327e+10\n",
       "477                    Zix Corp           ZIXI  6.522908e+08\n",
       "478  ZoomInfo Technologies, Inc             ZI  2.395588e+10\n",
       "\n",
       "[479 rows x 3 columns]"
      ]
     },
     "execution_count": 26,
     "metadata": {},
     "output_type": "execute_result"
    }
   ],
   "source": [
    "#add back into original dataframe\n",
    "data2[\"mktcapUSD\"] = result"
   ]
  },
  {
   "cell_type": "markdown",
   "metadata": {
    "id": "a5EZw-B1sxa4"
   },
   "source": [
    "function to export to csv"
   ]
  },
  {
   "cell_type": "code",
   "execution_count": null,
   "metadata": {
    "colab": {
     "base_uri": "https://localhost:8080/",
     "height": 657
    },
    "executionInfo": {
     "elapsed": 331,
     "status": "ok",
     "timestamp": 1649413615375,
     "user": {
      "displayName": "Joel Toh",
      "userId": "14988428230853926070"
     },
     "user_tz": -480
    },
    "id": "GEbK8DaYtmSq",
    "outputId": "ed2b6f29-39eb-4f72-8f0f-57b0511f1a08"
   },
   "outputs": [
    {
     "data": {
      "text/html": [
       "\n",
       "  <div id=\"df-51b8c252-0e25-416e-b55d-a0a8d535a326\">\n",
       "    <div class=\"colab-df-container\">\n",
       "      <div>\n",
       "<style scoped>\n",
       "    .dataframe tbody tr th:only-of-type {\n",
       "        vertical-align: middle;\n",
       "    }\n",
       "\n",
       "    .dataframe tbody tr th {\n",
       "        vertical-align: top;\n",
       "    }\n",
       "\n",
       "    .dataframe thead th {\n",
       "        text-align: right;\n",
       "    }\n",
       "</style>\n",
       "<table border=\"1\" class=\"dataframe\">\n",
       "  <thead>\n",
       "    <tr style=\"text-align: right;\">\n",
       "      <th></th>\n",
       "      <th>Companies</th>\n",
       "      <th>Ticker</th>\n",
       "      <th>mktcapUSD</th>\n",
       "    </tr>\n",
       "  </thead>\n",
       "  <tbody>\n",
       "    <tr>\n",
       "      <th>0</th>\n",
       "      <td>24SevenOffice Group</td>\n",
       "      <td>719.F</td>\n",
       "      <td>9.212487e+07</td>\n",
       "    </tr>\n",
       "    <tr>\n",
       "      <th>1</th>\n",
       "      <td>2U, Inc</td>\n",
       "      <td>TWOU</td>\n",
       "      <td>9.673635e+08</td>\n",
       "    </tr>\n",
       "    <tr>\n",
       "      <th>2</th>\n",
       "      <td>Absolute Software Corp</td>\n",
       "      <td>ABST</td>\n",
       "      <td>4.188821e+08</td>\n",
       "    </tr>\n",
       "    <tr>\n",
       "      <th>3</th>\n",
       "      <td>Accenture</td>\n",
       "      <td>ACN</td>\n",
       "      <td>2.166511e+11</td>\n",
       "    </tr>\n",
       "    <tr>\n",
       "      <th>4</th>\n",
       "      <td>ACI Worldwide, Inc</td>\n",
       "      <td>ACIW</td>\n",
       "      <td>3.068757e+09</td>\n",
       "    </tr>\n",
       "    <tr>\n",
       "      <th>...</th>\n",
       "      <td>...</td>\n",
       "      <td>...</td>\n",
       "      <td>...</td>\n",
       "    </tr>\n",
       "    <tr>\n",
       "      <th>474</th>\n",
       "      <td>Zensar Technologies Ltd</td>\n",
       "      <td>ZENSARTECH.BO</td>\n",
       "      <td>1.156896e+09</td>\n",
       "    </tr>\n",
       "    <tr>\n",
       "      <th>475</th>\n",
       "      <td>Ziff Davis, Inc</td>\n",
       "      <td>ZD</td>\n",
       "      <td>4.538474e+09</td>\n",
       "    </tr>\n",
       "    <tr>\n",
       "      <th>476</th>\n",
       "      <td>Zillow Group Inc</td>\n",
       "      <td>Z</td>\n",
       "      <td>1.205327e+10</td>\n",
       "    </tr>\n",
       "    <tr>\n",
       "      <th>477</th>\n",
       "      <td>Zix Corp</td>\n",
       "      <td>ZIXI</td>\n",
       "      <td>6.522908e+08</td>\n",
       "    </tr>\n",
       "    <tr>\n",
       "      <th>478</th>\n",
       "      <td>ZoomInfo Technologies, Inc</td>\n",
       "      <td>ZI</td>\n",
       "      <td>2.395588e+10</td>\n",
       "    </tr>\n",
       "  </tbody>\n",
       "</table>\n",
       "<p>479 rows × 3 columns</p>\n",
       "</div>\n",
       "      <button class=\"colab-df-convert\" onclick=\"convertToInteractive('df-51b8c252-0e25-416e-b55d-a0a8d535a326')\"\n",
       "              title=\"Convert this dataframe to an interactive table.\"\n",
       "              style=\"display:none;\">\n",
       "        \n",
       "  <svg xmlns=\"http://www.w3.org/2000/svg\" height=\"24px\"viewBox=\"0 0 24 24\"\n",
       "       width=\"24px\">\n",
       "    <path d=\"M0 0h24v24H0V0z\" fill=\"none\"/>\n",
       "    <path d=\"M18.56 5.44l.94 2.06.94-2.06 2.06-.94-2.06-.94-.94-2.06-.94 2.06-2.06.94zm-11 1L8.5 8.5l.94-2.06 2.06-.94-2.06-.94L8.5 2.5l-.94 2.06-2.06.94zm10 10l.94 2.06.94-2.06 2.06-.94-2.06-.94-.94-2.06-.94 2.06-2.06.94z\"/><path d=\"M17.41 7.96l-1.37-1.37c-.4-.4-.92-.59-1.43-.59-.52 0-1.04.2-1.43.59L10.3 9.45l-7.72 7.72c-.78.78-.78 2.05 0 2.83L4 21.41c.39.39.9.59 1.41.59.51 0 1.02-.2 1.41-.59l7.78-7.78 2.81-2.81c.8-.78.8-2.07 0-2.86zM5.41 20L4 18.59l7.72-7.72 1.47 1.35L5.41 20z\"/>\n",
       "  </svg>\n",
       "      </button>\n",
       "      \n",
       "  <style>\n",
       "    .colab-df-container {\n",
       "      display:flex;\n",
       "      flex-wrap:wrap;\n",
       "      gap: 12px;\n",
       "    }\n",
       "\n",
       "    .colab-df-convert {\n",
       "      background-color: #E8F0FE;\n",
       "      border: none;\n",
       "      border-radius: 50%;\n",
       "      cursor: pointer;\n",
       "      display: none;\n",
       "      fill: #1967D2;\n",
       "      height: 32px;\n",
       "      padding: 0 0 0 0;\n",
       "      width: 32px;\n",
       "    }\n",
       "\n",
       "    .colab-df-convert:hover {\n",
       "      background-color: #E2EBFA;\n",
       "      box-shadow: 0px 1px 2px rgba(60, 64, 67, 0.3), 0px 1px 3px 1px rgba(60, 64, 67, 0.15);\n",
       "      fill: #174EA6;\n",
       "    }\n",
       "\n",
       "    [theme=dark] .colab-df-convert {\n",
       "      background-color: #3B4455;\n",
       "      fill: #D2E3FC;\n",
       "    }\n",
       "\n",
       "    [theme=dark] .colab-df-convert:hover {\n",
       "      background-color: #434B5C;\n",
       "      box-shadow: 0px 1px 3px 1px rgba(0, 0, 0, 0.15);\n",
       "      filter: drop-shadow(0px 1px 2px rgba(0, 0, 0, 0.3));\n",
       "      fill: #FFFFFF;\n",
       "    }\n",
       "  </style>\n",
       "\n",
       "      <script>\n",
       "        const buttonEl =\n",
       "          document.querySelector('#df-51b8c252-0e25-416e-b55d-a0a8d535a326 button.colab-df-convert');\n",
       "        buttonEl.style.display =\n",
       "          google.colab.kernel.accessAllowed ? 'block' : 'none';\n",
       "\n",
       "        async function convertToInteractive(key) {\n",
       "          const element = document.querySelector('#df-51b8c252-0e25-416e-b55d-a0a8d535a326');\n",
       "          const dataTable =\n",
       "            await google.colab.kernel.invokeFunction('convertToInteractive',\n",
       "                                                     [key], {});\n",
       "          if (!dataTable) return;\n",
       "\n",
       "          const docLinkHtml = 'Like what you see? Visit the ' +\n",
       "            '<a target=\"_blank\" href=https://colab.research.google.com/notebooks/data_table.ipynb>data table notebook</a>'\n",
       "            + ' to learn more about interactive tables.';\n",
       "          element.innerHTML = '';\n",
       "          dataTable['output_type'] = 'display_data';\n",
       "          await google.colab.output.renderOutput(dataTable, element);\n",
       "          const docLink = document.createElement('div');\n",
       "          docLink.innerHTML = docLinkHtml;\n",
       "          element.appendChild(docLink);\n",
       "        }\n",
       "      </script>\n",
       "    </div>\n",
       "  </div>\n",
       "  "
      ],
      "text/plain": [
       "                      Companies         Ticker     mktcapUSD\n",
       "0           24SevenOffice Group          719.F  9.212487e+07\n",
       "1                       2U, Inc           TWOU  9.673635e+08\n",
       "2        Absolute Software Corp           ABST  4.188821e+08\n",
       "3                     Accenture            ACN  2.166511e+11\n",
       "4            ACI Worldwide, Inc           ACIW  3.068757e+09\n",
       "..                          ...            ...           ...\n",
       "474     Zensar Technologies Ltd  ZENSARTECH.BO  1.156896e+09\n",
       "475             Ziff Davis, Inc             ZD  4.538474e+09\n",
       "476            Zillow Group Inc              Z  1.205327e+10\n",
       "477                    Zix Corp           ZIXI  6.522908e+08\n",
       "478  ZoomInfo Technologies, Inc             ZI  2.395588e+10\n",
       "\n",
       "[479 rows x 3 columns]"
      ]
     },
     "execution_count": 45,
     "metadata": {},
     "output_type": "execute_result"
    }
   ],
   "source": [
    "data2"
   ]
  },
  {
   "cell_type": "code",
   "execution_count": null,
   "metadata": {
    "id": "ZfhVr7S7elZv"
   },
   "outputs": [],
   "source": [
    "data2.to_csv('mktcap_file5.csv', index=False)"
   ]
  }
 ],
 "metadata": {
  "colab": {
   "collapsed_sections": [],
   "name": "Market Capitalisation.ipynb",
   "provenance": []
  },
  "kernelspec": {
   "display_name": "Python 3 (ipykernel)",
   "language": "python",
   "name": "python3"
  },
  "language_info": {
   "codemirror_mode": {
    "name": "ipython",
    "version": 3
   },
   "file_extension": ".py",
   "mimetype": "text/x-python",
   "name": "python",
   "nbconvert_exporter": "python",
   "pygments_lexer": "ipython3",
   "version": "3.7.11"
  }
 },
 "nbformat": 4,
 "nbformat_minor": 1
}
